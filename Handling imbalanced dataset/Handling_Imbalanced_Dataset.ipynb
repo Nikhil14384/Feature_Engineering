{
  "nbformat": 4,
  "nbformat_minor": 0,
  "metadata": {
    "colab": {
      "name": "Handling_Imbalanced_Dataset.ipynb",
      "provenance": []
    },
    "kernelspec": {
      "name": "python3",
      "display_name": "Python 3"
    }
  },
  "cells": [
    {
      "cell_type": "code",
      "metadata": {
        "colab": {
          "base_uri": "https://localhost:8080/"
        },
        "id": "AGjuOBLgLLjp",
        "outputId": "9cab8094-5e67-4b4a-d0d9-1ee59fc3b334"
      },
      "source": [
        "from google.colab import drive\r\n",
        "drive.mount('/content/drive')"
      ],
      "execution_count": 2,
      "outputs": [
        {
          "output_type": "stream",
          "text": [
            "Drive already mounted at /content/drive; to attempt to forcibly remount, call drive.mount(\"/content/drive\", force_remount=True).\n"
          ],
          "name": "stdout"
        }
      ]
    },
    {
      "cell_type": "code",
      "metadata": {
        "id": "6bYrTeY0LUUK"
      },
      "source": [
        "import pandas as pd\r\n",
        "import numpy as np\r\n"
      ],
      "execution_count": 3,
      "outputs": []
    },
    {
      "cell_type": "code",
      "metadata": {
        "id": "WlpkwY1ALiQv"
      },
      "source": [
        "df=pd.read_csv('/content/drive/My Drive/Colab Notebooks/creditcard.csv')"
      ],
      "execution_count": 4,
      "outputs": []
    },
    {
      "cell_type": "code",
      "metadata": {
        "colab": {
          "base_uri": "https://localhost:8080/"
        },
        "id": "eA2dL9qtLssk",
        "outputId": "dc9b9ca1-a2f9-4578-80f4-d7a98c0ce589"
      },
      "source": [
        "df.shape"
      ],
      "execution_count": 5,
      "outputs": [
        {
          "output_type": "execute_result",
          "data": {
            "text/plain": [
              "(284807, 31)"
            ]
          },
          "metadata": {
            "tags": []
          },
          "execution_count": 5
        }
      ]
    },
    {
      "cell_type": "code",
      "metadata": {
        "colab": {
          "base_uri": "https://localhost:8080/"
        },
        "id": "zgZjGkqBM2TO",
        "outputId": "b5b5fdc3-0246-4282-97f0-2df45c0f4693"
      },
      "source": [
        "df.isnull().sum()"
      ],
      "execution_count": 6,
      "outputs": [
        {
          "output_type": "execute_result",
          "data": {
            "text/plain": [
              "Time      0\n",
              "V1        0\n",
              "V2        0\n",
              "V3        0\n",
              "V4        0\n",
              "V5        0\n",
              "V6        0\n",
              "V7        0\n",
              "V8        0\n",
              "V9        0\n",
              "V10       0\n",
              "V11       0\n",
              "V12       0\n",
              "V13       0\n",
              "V14       0\n",
              "V15       0\n",
              "V16       0\n",
              "V17       0\n",
              "V18       0\n",
              "V19       0\n",
              "V20       0\n",
              "V21       0\n",
              "V22       0\n",
              "V23       0\n",
              "V24       0\n",
              "V25       0\n",
              "V26       0\n",
              "V27       0\n",
              "V28       0\n",
              "Amount    0\n",
              "Class     0\n",
              "dtype: int64"
            ]
          },
          "metadata": {
            "tags": []
          },
          "execution_count": 6
        }
      ]
    },
    {
      "cell_type": "code",
      "metadata": {
        "colab": {
          "base_uri": "https://localhost:8080/"
        },
        "id": "g8RrkO6YNDuT",
        "outputId": "ad64ae40-54f6-405b-e040-fa5d30044cb2"
      },
      "source": [
        "df.Class.value_counts()"
      ],
      "execution_count": 7,
      "outputs": [
        {
          "output_type": "execute_result",
          "data": {
            "text/plain": [
              "0    284315\n",
              "1       492\n",
              "Name: Class, dtype: int64"
            ]
          },
          "metadata": {
            "tags": []
          },
          "execution_count": 7
        }
      ]
    },
    {
      "cell_type": "markdown",
      "metadata": {
        "id": "wD6rCLoWObGC"
      },
      "source": [
        "If you observe, the ratio between '0'and '1' is alomost  like this-\"0.999 : 0.001\" and if we proceed with this kind of data the model will be more prone to predict the value '0'."
      ]
    },
    {
      "cell_type": "code",
      "metadata": {
        "id": "w89z5gPyNSxp"
      },
      "source": [
        "X=df.drop('Class',axis=1)\r\n",
        "y=df.Class"
      ],
      "execution_count": 8,
      "outputs": []
    },
    {
      "cell_type": "markdown",
      "metadata": {
        "id": "4HF63t_LYmEY"
      },
      "source": [
        "### **UNDER SAMPLING**"
      ]
    },
    {
      "cell_type": "markdown",
      "metadata": {
        "id": "FzBxVPGVYqcx"
      },
      "source": [
        "Under sampling is a technique which is used to balance the dataset by reducing the size of large class to the size of small class.\r\n",
        "\r\n",
        "**Ex:**\r\n",
        "\r\n",
        "for suppose, we have dataset like this\r\n",
        "\r\n",
        "      class     count\r\n",
        "       '0'       2000\r\n",
        "       '1'       50\r\n",
        "\r\n",
        "After under sampling:\r\n",
        "\r\n",
        "      class     count\r\n",
        "       '0'       50\r\n",
        "       '1'       50"
      ]
    },
    {
      "cell_type": "code",
      "metadata": {
        "colab": {
          "base_uri": "https://localhost:8080/"
        },
        "id": "20P-6eoGQQk7",
        "outputId": "dc06129f-6116-4278-9652-ee9b7fbd48da"
      },
      "source": [
        "from imblearn.under_sampling import NearMiss\r\n",
        "ns=NearMiss()\r\n",
        "X_ns,y_ns=ns.fit_sample(X,y) "
      ],
      "execution_count": 16,
      "outputs": [
        {
          "output_type": "stream",
          "text": [
            "/usr/local/lib/python3.6/dist-packages/sklearn/utils/deprecation.py:87: FutureWarning: Function safe_indexing is deprecated; safe_indexing is deprecated in version 0.22 and will be removed in version 0.24.\n",
            "  warnings.warn(msg, category=FutureWarning)\n",
            "/usr/local/lib/python3.6/dist-packages/sklearn/utils/deprecation.py:87: FutureWarning: Function safe_indexing is deprecated; safe_indexing is deprecated in version 0.22 and will be removed in version 0.24.\n",
            "  warnings.warn(msg, category=FutureWarning)\n",
            "/usr/local/lib/python3.6/dist-packages/sklearn/utils/deprecation.py:87: FutureWarning: Function safe_indexing is deprecated; safe_indexing is deprecated in version 0.22 and will be removed in version 0.24.\n",
            "  warnings.warn(msg, category=FutureWarning)\n"
          ],
          "name": "stderr"
        }
      ]
    },
    {
      "cell_type": "code",
      "metadata": {
        "colab": {
          "base_uri": "https://localhost:8080/"
        },
        "id": "rC1_MiDrQCeO",
        "outputId": "5b39ef09-bf29-4f0c-d9f5-9d14fbcdedba"
      },
      "source": [
        "print(y.value_counts())\r\n",
        "y_ns.shape"
      ],
      "execution_count": 17,
      "outputs": [
        {
          "output_type": "stream",
          "text": [
            "0    284315\n",
            "1       492\n",
            "Name: Class, dtype: int64\n"
          ],
          "name": "stdout"
        },
        {
          "output_type": "execute_result",
          "data": {
            "text/plain": [
              "(984,)"
            ]
          },
          "metadata": {
            "tags": []
          },
          "execution_count": 17
        }
      ]
    },
    {
      "cell_type": "markdown",
      "metadata": {
        "id": "aA8IZrjcdBuB"
      },
      "source": [
        "**NOTE** : Never use under sampling when u have very large dataset. Only use when u have small dataset."
      ]
    },
    {
      "cell_type": "markdown",
      "metadata": {
        "id": "VTFXAkqtdS6V"
      },
      "source": [
        "### **OVER SAMPLING**"
      ]
    },
    {
      "cell_type": "markdown",
      "metadata": {
        "id": "5DIgPOl_d8Rl"
      },
      "source": [
        "Over sampling is exactly opposite to the under sampling. let meexplain u with a example\r\n",
        "\r\n",
        "**Ex:**\r\n",
        "\r\n",
        "for suppose, we have dataset like this\r\n",
        "\r\n",
        "      class     count\r\n",
        "       '0'       2000\r\n",
        "       '1'       50\r\n",
        "\r\n",
        "After over sampling:\r\n",
        "\r\n",
        "      class     count\r\n",
        "       '0'       2000\r\n",
        "       '1'       2000"
      ]
    },
    {
      "cell_type": "code",
      "metadata": {
        "id": "STBdYInbbxt8"
      },
      "source": [
        "##technique by using RandomOver Sampler\r\n",
        "from imblearn.over_sampling import RandomOverSampler"
      ],
      "execution_count": 18,
      "outputs": []
    },
    {
      "cell_type": "code",
      "metadata": {
        "colab": {
          "base_uri": "https://localhost:8080/"
        },
        "id": "D0-EYosbdsLd",
        "outputId": "2fe9fc7a-d5b7-460a-d975-2b178a31248d"
      },
      "source": [
        "os=RandomOverSampler(0.5)\r\n",
        "x_os,y_os=os.fit_sample(X,y)"
      ],
      "execution_count": 19,
      "outputs": [
        {
          "output_type": "stream",
          "text": [
            "/usr/local/lib/python3.6/dist-packages/sklearn/utils/deprecation.py:87: FutureWarning: Function safe_indexing is deprecated; safe_indexing is deprecated in version 0.22 and will be removed in version 0.24.\n",
            "  warnings.warn(msg, category=FutureWarning)\n"
          ],
          "name": "stderr"
        }
      ]
    },
    {
      "cell_type": "code",
      "metadata": {
        "colab": {
          "base_uri": "https://localhost:8080/"
        },
        "id": "gE3OQyQHedSQ",
        "outputId": "cb72f400-8d73-46ed-dd6d-d84bf4561943"
      },
      "source": [
        "y_os.shape"
      ],
      "execution_count": 22,
      "outputs": [
        {
          "output_type": "execute_result",
          "data": {
            "text/plain": [
              "(426472,)"
            ]
          },
          "metadata": {
            "tags": []
          },
          "execution_count": 22
        }
      ]
    },
    {
      "cell_type": "code",
      "metadata": {
        "colab": {
          "base_uri": "https://localhost:8080/"
        },
        "id": "It1cKfFtei9w",
        "outputId": "79c06c27-f3f1-4070-b8b5-306c36ebbea0"
      },
      "source": [
        "## Techique By SmoteTomek\r\n",
        "from imblearn.combine import SMOTETomek\r\n",
        "st=SMOTETomek(1)\r\n",
        "x_st,y_st=st.fit_sample(X,y) "
      ],
      "execution_count": 25,
      "outputs": [
        {
          "output_type": "stream",
          "text": [
            "/usr/local/lib/python3.6/dist-packages/sklearn/utils/deprecation.py:87: FutureWarning: Function safe_indexing is deprecated; safe_indexing is deprecated in version 0.22 and will be removed in version 0.24.\n",
            "  warnings.warn(msg, category=FutureWarning)\n",
            "/usr/local/lib/python3.6/dist-packages/sklearn/utils/deprecation.py:87: FutureWarning: Function safe_indexing is deprecated; safe_indexing is deprecated in version 0.22 and will be removed in version 0.24.\n",
            "  warnings.warn(msg, category=FutureWarning)\n"
          ],
          "name": "stderr"
        }
      ]
    },
    {
      "cell_type": "code",
      "metadata": {
        "colab": {
          "base_uri": "https://localhost:8080/"
        },
        "id": "NGUW2WQzgP9U",
        "outputId": "2fb04455-8801-4601-81d6-6ff4c3918d83"
      },
      "source": [
        "y_st.shape"
      ],
      "execution_count": 26,
      "outputs": [
        {
          "output_type": "execute_result",
          "data": {
            "text/plain": [
              "(567492,)"
            ]
          },
          "metadata": {
            "tags": []
          },
          "execution_count": 26
        }
      ]
    },
    {
      "cell_type": "code",
      "metadata": {
        "id": "lwxLxgwtga9o"
      },
      "source": [
        ""
      ],
      "execution_count": null,
      "outputs": []
    }
  ]
}