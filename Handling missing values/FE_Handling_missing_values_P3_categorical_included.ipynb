{
  "nbformat": 4,
  "nbformat_minor": 0,
  "metadata": {
    "colab": {
      "name": "FE_Handling-missing-values_P3_categorical_included.ipynb",
      "provenance": []
    },
    "kernelspec": {
      "name": "python3",
      "display_name": "Python 3"
    }
  },
  "cells": [
    {
      "cell_type": "code",
      "metadata": {
        "id": "ukKACs2xoW9L"
      },
      "source": [
        "url='https://raw.githubusercontent.com/Nikhil14384/Feature_Engineering/main/Handling%20missing%20values/titanic.csv'\r\n"
      ],
      "execution_count": 6,
      "outputs": []
    },
    {
      "cell_type": "code",
      "metadata": {
        "id": "ZtDlZg3_ou5Z"
      },
      "source": [
        "import pandas as pd\r\n",
        "import numpy as np"
      ],
      "execution_count": 2,
      "outputs": []
    },
    {
      "cell_type": "markdown",
      "metadata": {
        "id": "Ti4TXqvnqOpo"
      },
      "source": [
        "## **Arbitrary Value Imputation**\r\n",
        "\r\n",
        "this technique was derived from kaggle competition It consists of replacing NAN by an arbitrary value"
      ]
    },
    {
      "cell_type": "code",
      "metadata": {
        "id": "0ajBxQO4oyMv"
      },
      "source": [
        "df=pd.read_csv(url,usecols=['Age','Survived','Fare'])"
      ],
      "execution_count": 3,
      "outputs": []
    },
    {
      "cell_type": "code",
      "metadata": {
        "colab": {
          "base_uri": "https://localhost:8080/",
          "height": 204
        },
        "id": "6PKKdgpcqi3h",
        "outputId": "725e55b0-8ee3-4893-921b-a5f1f2d7bcd9"
      },
      "source": [
        "df.head()"
      ],
      "execution_count": 4,
      "outputs": [
        {
          "output_type": "execute_result",
          "data": {
            "text/html": [
              "<div>\n",
              "<style scoped>\n",
              "    .dataframe tbody tr th:only-of-type {\n",
              "        vertical-align: middle;\n",
              "    }\n",
              "\n",
              "    .dataframe tbody tr th {\n",
              "        vertical-align: top;\n",
              "    }\n",
              "\n",
              "    .dataframe thead th {\n",
              "        text-align: right;\n",
              "    }\n",
              "</style>\n",
              "<table border=\"1\" class=\"dataframe\">\n",
              "  <thead>\n",
              "    <tr style=\"text-align: right;\">\n",
              "      <th></th>\n",
              "      <th>Survived</th>\n",
              "      <th>Age</th>\n",
              "      <th>Fare</th>\n",
              "    </tr>\n",
              "  </thead>\n",
              "  <tbody>\n",
              "    <tr>\n",
              "      <th>0</th>\n",
              "      <td>0</td>\n",
              "      <td>22.0</td>\n",
              "      <td>7.2500</td>\n",
              "    </tr>\n",
              "    <tr>\n",
              "      <th>1</th>\n",
              "      <td>1</td>\n",
              "      <td>38.0</td>\n",
              "      <td>71.2833</td>\n",
              "    </tr>\n",
              "    <tr>\n",
              "      <th>2</th>\n",
              "      <td>1</td>\n",
              "      <td>26.0</td>\n",
              "      <td>7.9250</td>\n",
              "    </tr>\n",
              "    <tr>\n",
              "      <th>3</th>\n",
              "      <td>1</td>\n",
              "      <td>35.0</td>\n",
              "      <td>53.1000</td>\n",
              "    </tr>\n",
              "    <tr>\n",
              "      <th>4</th>\n",
              "      <td>0</td>\n",
              "      <td>35.0</td>\n",
              "      <td>8.0500</td>\n",
              "    </tr>\n",
              "  </tbody>\n",
              "</table>\n",
              "</div>"
            ],
            "text/plain": [
              "   Survived   Age     Fare\n",
              "0         0  22.0   7.2500\n",
              "1         1  38.0  71.2833\n",
              "2         1  26.0   7.9250\n",
              "3         1  35.0  53.1000\n",
              "4         0  35.0   8.0500"
            ]
          },
          "metadata": {
            "tags": []
          },
          "execution_count": 4
        }
      ]
    },
    {
      "cell_type": "code",
      "metadata": {
        "id": "xWsHVU73qj-a"
      },
      "source": [
        "def impute_arbi(df,variable):\r\n",
        "  df[variable+'_zero']=df[variable].fillna(0)\r\n",
        "  df[variable+'_hundred']=df[variable].fillna(100)\r\n",
        "\r\n"
      ],
      "execution_count": 5,
      "outputs": []
    },
    {
      "cell_type": "markdown",
      "metadata": {
        "id": "GFV6JSY0sMFM"
      },
      "source": [
        "**Advantages**\r\n",
        "\r\n",
        "Easy to implement\r\n",
        "\r\n",
        "Captures the importance of missingess if there is one\r\n",
        "\r\n",
        "**Disadvantages**\r\n",
        "\r\n",
        "Distorts the original distribution of the variable\r\n",
        "\r\n",
        "If missingess is not important, it may mask the predictive power of the original variable by distorting its distribution\r\n",
        "\r\n",
        "Hard to decide which value to use"
      ]
    },
    {
      "cell_type": "markdown",
      "metadata": {
        "id": "UEIVCty2u8_9"
      },
      "source": [
        "## **How To Handle Categroical Missing Values**\r\n",
        "\r\n",
        "**Frequent Category Imputation**"
      ]
    },
    {
      "cell_type": "code",
      "metadata": {
        "id": "FQKPAyCissKY"
      },
      "source": [
        "url='https://raw.githubusercontent.com/Nikhil14384/Feature_Engineering/main/Handling%20missing%20values/house_price.csv'"
      ],
      "execution_count": 4,
      "outputs": []
    },
    {
      "cell_type": "code",
      "metadata": {
        "id": "5-en9R4TvUYU"
      },
      "source": [
        "df=pd.read_csv(url, usecols=['BsmtQual','FireplaceQu','GarageType','SalePrice'])"
      ],
      "execution_count": 57,
      "outputs": []
    },
    {
      "cell_type": "code",
      "metadata": {
        "id": "q13pQ5WpvcTY"
      },
      "source": [
        "df.head(20)"
      ],
      "execution_count": null,
      "outputs": []
    },
    {
      "cell_type": "code",
      "metadata": {
        "colab": {
          "base_uri": "https://localhost:8080/"
        },
        "id": "QGcvHaZ9vdoi",
        "outputId": "85eff8cd-59a7-4b36-cf07-91461c07689f"
      },
      "source": [
        "df.isnull().sum()"
      ],
      "execution_count": 60,
      "outputs": [
        {
          "output_type": "execute_result",
          "data": {
            "text/plain": [
              "BsmtQual        37\n",
              "FireplaceQu    690\n",
              "GarageType      81\n",
              "SalePrice        0\n",
              "dtype: int64"
            ]
          },
          "metadata": {
            "tags": []
          },
          "execution_count": 60
        }
      ]
    },
    {
      "cell_type": "code",
      "metadata": {
        "colab": {
          "base_uri": "https://localhost:8080/"
        },
        "id": "jNr1gY0Kvu_-",
        "outputId": "adc0993e-86f7-4ce8-8764-efbce6b06092"
      },
      "source": [
        "df.isnull().mean()*100"
      ],
      "execution_count": 61,
      "outputs": [
        {
          "output_type": "execute_result",
          "data": {
            "text/plain": [
              "BsmtQual        2.534247\n",
              "FireplaceQu    47.260274\n",
              "GarageType      5.547945\n",
              "SalePrice       0.000000\n",
              "dtype: float64"
            ]
          },
          "metadata": {
            "tags": []
          },
          "execution_count": 61
        }
      ]
    },
    {
      "cell_type": "markdown",
      "metadata": {
        "id": "cxNwxm8fw4ny"
      },
      "source": [
        "Compute the frequency with every feature"
      ]
    },
    {
      "cell_type": "code",
      "metadata": {
        "colab": {
          "base_uri": "https://localhost:8080/",
          "height": 300
        },
        "id": "Q_h-MoTdvzGK",
        "outputId": "b53fd36b-9225-4b29-9f6b-249258afd81d"
      },
      "source": [
        "df.groupby(['BsmtQual'])['BsmtQual'].count().plot.bar()"
      ],
      "execution_count": 62,
      "outputs": [
        {
          "output_type": "execute_result",
          "data": {
            "text/plain": [
              "<matplotlib.axes._subplots.AxesSubplot at 0x7f5d84c320b8>"
            ]
          },
          "metadata": {
            "tags": []
          },
          "execution_count": 62
        },
        {
          "output_type": "display_data",
          "data": {
            "image/png": "[encoded data removed]",
            "text/plain": [
              "<Figure size 432x288 with 1 Axes>"
            ]
          },
          "metadata": {
            "tags": [],
            "needs_background": "light"
          }
        }
      ]
    },
    {
      "cell_type": "code",
      "metadata": {
        "colab": {
          "base_uri": "https://localhost:8080/",
          "height": 35
        },
        "id": "nEC8X3r4xI-F",
        "outputId": "3a05357d-912a-4541-80d7-de692a0584b3"
      },
      "source": [
        "fre_bsmt=df.BsmtQual.mode()[0]\r\n",
        "fre_bsmt"
      ],
      "execution_count": 63,
      "outputs": [
        {
          "output_type": "execute_result",
          "data": {
            "application/vnd.google.colaboratory.intrinsic+json": {
              "type": "string"
            },
            "text/plain": [
              "'TA'"
            ]
          },
          "metadata": {
            "tags": []
          },
          "execution_count": 63
        }
      ]
    },
    {
      "cell_type": "code",
      "metadata": {
        "id": "gZ0ZEw6oxmtk"
      },
      "source": [
        "fre_garage=df.GarageType.mode()[0]"
      ],
      "execution_count": 64,
      "outputs": []
    },
    {
      "cell_type": "code",
      "metadata": {
        "id": "laz6wUFNx-JH"
      },
      "source": [
        "def impute_freq(df,variable):\r\n",
        "  mfc=df[variable].mode()[0]\r\n",
        "  df[variable].fillna(mfc,inplace=True)\r\n",
        "  \r\n"
      ],
      "execution_count": 65,
      "outputs": []
    },
    {
      "cell_type": "code",
      "metadata": {
        "id": "6fokJB0e0rDw"
      },
      "source": [
        "for feature in ['BsmtQual','FireplaceQu','GarageType']:\r\n",
        "  impute_freq(df,feature)"
      ],
      "execution_count": 68,
      "outputs": []
    },
    {
      "cell_type": "code",
      "metadata": {
        "colab": {
          "base_uri": "https://localhost:8080/"
        },
        "id": "KWpWwBjN1nw0",
        "outputId": "cfa0739b-c63f-4ff9-fb8e-422fcfde09e2"
      },
      "source": [
        "df.isnull().mean()"
      ],
      "execution_count": 69,
      "outputs": [
        {
          "output_type": "execute_result",
          "data": {
            "text/plain": [
              "BsmtQual       0.0\n",
              "FireplaceQu    0.0\n",
              "GarageType     0.0\n",
              "SalePrice      0.0\n",
              "dtype: float64"
            ]
          },
          "metadata": {
            "tags": []
          },
          "execution_count": 69
        }
      ]
    },
    {
      "cell_type": "markdown",
      "metadata": {
        "id": "d1cLl79A3dd_"
      },
      "source": [
        "**Advantages**\r\n",
        "\r\n",
        "Easy To implement\r\n",
        "\r\n",
        "Fater way to implement \r\n",
        "\r\n",
        "**Disadvantages**\r\n",
        "\r\n",
        "Since we are using the more frequent labels, it may use them in an over respresented way, if there are many nan's\r\n",
        "\r\n",
        "It distorts the relation of the most frequent label"
      ]
    },
    {
      "cell_type": "markdown",
      "metadata": {
        "id": "-HS1NGkk74jn"
      },
      "source": [
        "**Adding a variable to capture NaN**"
      ]
    },
    {
      "cell_type": "code",
      "metadata": {
        "id": "B7MrIcWt3BpV"
      },
      "source": [
        "df=pd.read_csv(url, usecols=['BsmtQual','FireplaceQu','GarageType','SalePrice'])"
      ],
      "execution_count": 81,
      "outputs": []
    },
    {
      "cell_type": "code",
      "metadata": {
        "id": "rXiRfBic8FSV"
      },
      "source": [
        "df['FireplaceQu_var']=np.where(df['FireplaceQu'].isnull(),1,0)"
      ],
      "execution_count": 82,
      "outputs": []
    },
    {
      "cell_type": "code",
      "metadata": {
        "id": "ACF_om4A8SZ0"
      },
      "source": [
        "df.head(20)"
      ],
      "execution_count": null,
      "outputs": []
    },
    {
      "cell_type": "code",
      "metadata": {
        "id": "mLXNem8D8Ubi"
      },
      "source": [
        "mfc=df['FireplaceQu'].mode()[0]\r\n",
        "df.FireplaceQu.fillna(mfc,inplace=True)"
      ],
      "execution_count": 84,
      "outputs": []
    },
    {
      "cell_type": "code",
      "metadata": {
        "colab": {
          "base_uri": "https://localhost:8080/",
          "height": 669
        },
        "id": "3E3BXDte87ZI",
        "outputId": "8321a2f6-8452-487b-acfe-875d0dc85084"
      },
      "source": [
        "df.head(20)"
      ],
      "execution_count": 85,
      "outputs": [
        {
          "output_type": "execute_result",
          "data": {
            "text/html": [
              "<div>\n",
              "<style scoped>\n",
              "    .dataframe tbody tr th:only-of-type {\n",
              "        vertical-align: middle;\n",
              "    }\n",
              "\n",
              "    .dataframe tbody tr th {\n",
              "        vertical-align: top;\n",
              "    }\n",
              "\n",
              "    .dataframe thead th {\n",
              "        text-align: right;\n",
              "    }\n",
              "</style>\n",
              "<table border=\"1\" class=\"dataframe\">\n",
              "  <thead>\n",
              "    <tr style=\"text-align: right;\">\n",
              "      <th></th>\n",
              "      <th>BsmtQual</th>\n",
              "      <th>FireplaceQu</th>\n",
              "      <th>GarageType</th>\n",
              "      <th>SalePrice</th>\n",
              "      <th>FireplaceQu_var</th>\n",
              "    </tr>\n",
              "  </thead>\n",
              "  <tbody>\n",
              "    <tr>\n",
              "      <th>0</th>\n",
              "      <td>Gd</td>\n",
              "      <td>Gd</td>\n",
              "      <td>Attchd</td>\n",
              "      <td>208500</td>\n",
              "      <td>1</td>\n",
              "    </tr>\n",
              "    <tr>\n",
              "      <th>1</th>\n",
              "      <td>Gd</td>\n",
              "      <td>TA</td>\n",
              "      <td>Attchd</td>\n",
              "      <td>181500</td>\n",
              "      <td>0</td>\n",
              "    </tr>\n",
              "    <tr>\n",
              "      <th>2</th>\n",
              "      <td>Gd</td>\n",
              "      <td>TA</td>\n",
              "      <td>Attchd</td>\n",
              "      <td>223500</td>\n",
              "      <td>0</td>\n",
              "    </tr>\n",
              "    <tr>\n",
              "      <th>3</th>\n",
              "      <td>TA</td>\n",
              "      <td>Gd</td>\n",
              "      <td>Detchd</td>\n",
              "      <td>140000</td>\n",
              "      <td>0</td>\n",
              "    </tr>\n",
              "    <tr>\n",
              "      <th>4</th>\n",
              "      <td>Gd</td>\n",
              "      <td>TA</td>\n",
              "      <td>Attchd</td>\n",
              "      <td>250000</td>\n",
              "      <td>0</td>\n",
              "    </tr>\n",
              "    <tr>\n",
              "      <th>5</th>\n",
              "      <td>Gd</td>\n",
              "      <td>Gd</td>\n",
              "      <td>Attchd</td>\n",
              "      <td>143000</td>\n",
              "      <td>1</td>\n",
              "    </tr>\n",
              "    <tr>\n",
              "      <th>6</th>\n",
              "      <td>Ex</td>\n",
              "      <td>Gd</td>\n",
              "      <td>Attchd</td>\n",
              "      <td>307000</td>\n",
              "      <td>0</td>\n",
              "    </tr>\n",
              "    <tr>\n",
              "      <th>7</th>\n",
              "      <td>Gd</td>\n",
              "      <td>TA</td>\n",
              "      <td>Attchd</td>\n",
              "      <td>200000</td>\n",
              "      <td>0</td>\n",
              "    </tr>\n",
              "    <tr>\n",
              "      <th>8</th>\n",
              "      <td>TA</td>\n",
              "      <td>TA</td>\n",
              "      <td>Detchd</td>\n",
              "      <td>129900</td>\n",
              "      <td>0</td>\n",
              "    </tr>\n",
              "    <tr>\n",
              "      <th>9</th>\n",
              "      <td>TA</td>\n",
              "      <td>TA</td>\n",
              "      <td>Attchd</td>\n",
              "      <td>118000</td>\n",
              "      <td>0</td>\n",
              "    </tr>\n",
              "    <tr>\n",
              "      <th>10</th>\n",
              "      <td>TA</td>\n",
              "      <td>Gd</td>\n",
              "      <td>Detchd</td>\n",
              "      <td>129500</td>\n",
              "      <td>1</td>\n",
              "    </tr>\n",
              "    <tr>\n",
              "      <th>11</th>\n",
              "      <td>Ex</td>\n",
              "      <td>Gd</td>\n",
              "      <td>BuiltIn</td>\n",
              "      <td>345000</td>\n",
              "      <td>0</td>\n",
              "    </tr>\n",
              "    <tr>\n",
              "      <th>12</th>\n",
              "      <td>TA</td>\n",
              "      <td>Gd</td>\n",
              "      <td>Detchd</td>\n",
              "      <td>144000</td>\n",
              "      <td>1</td>\n",
              "    </tr>\n",
              "    <tr>\n",
              "      <th>13</th>\n",
              "      <td>Gd</td>\n",
              "      <td>Gd</td>\n",
              "      <td>Attchd</td>\n",
              "      <td>279500</td>\n",
              "      <td>0</td>\n",
              "    </tr>\n",
              "    <tr>\n",
              "      <th>14</th>\n",
              "      <td>TA</td>\n",
              "      <td>Fa</td>\n",
              "      <td>Attchd</td>\n",
              "      <td>157000</td>\n",
              "      <td>0</td>\n",
              "    </tr>\n",
              "    <tr>\n",
              "      <th>15</th>\n",
              "      <td>TA</td>\n",
              "      <td>Gd</td>\n",
              "      <td>Detchd</td>\n",
              "      <td>132000</td>\n",
              "      <td>1</td>\n",
              "    </tr>\n",
              "    <tr>\n",
              "      <th>16</th>\n",
              "      <td>TA</td>\n",
              "      <td>TA</td>\n",
              "      <td>Attchd</td>\n",
              "      <td>149000</td>\n",
              "      <td>0</td>\n",
              "    </tr>\n",
              "    <tr>\n",
              "      <th>17</th>\n",
              "      <td>NaN</td>\n",
              "      <td>Gd</td>\n",
              "      <td>CarPort</td>\n",
              "      <td>90000</td>\n",
              "      <td>1</td>\n",
              "    </tr>\n",
              "    <tr>\n",
              "      <th>18</th>\n",
              "      <td>TA</td>\n",
              "      <td>Gd</td>\n",
              "      <td>Detchd</td>\n",
              "      <td>159000</td>\n",
              "      <td>1</td>\n",
              "    </tr>\n",
              "    <tr>\n",
              "      <th>19</th>\n",
              "      <td>TA</td>\n",
              "      <td>Gd</td>\n",
              "      <td>Attchd</td>\n",
              "      <td>139000</td>\n",
              "      <td>1</td>\n",
              "    </tr>\n",
              "  </tbody>\n",
              "</table>\n",
              "</div>"
            ],
            "text/plain": [
              "   BsmtQual FireplaceQu GarageType  SalePrice  FireplaceQu_var\n",
              "0        Gd          Gd     Attchd     208500                1\n",
              "1        Gd          TA     Attchd     181500                0\n",
              "2        Gd          TA     Attchd     223500                0\n",
              "3        TA          Gd     Detchd     140000                0\n",
              "4        Gd          TA     Attchd     250000                0\n",
              "5        Gd          Gd     Attchd     143000                1\n",
              "6        Ex          Gd     Attchd     307000                0\n",
              "7        Gd          TA     Attchd     200000                0\n",
              "8        TA          TA     Detchd     129900                0\n",
              "9        TA          TA     Attchd     118000                0\n",
              "10       TA          Gd     Detchd     129500                1\n",
              "11       Ex          Gd    BuiltIn     345000                0\n",
              "12       TA          Gd     Detchd     144000                1\n",
              "13       Gd          Gd     Attchd     279500                0\n",
              "14       TA          Fa     Attchd     157000                0\n",
              "15       TA          Gd     Detchd     132000                1\n",
              "16       TA          TA     Attchd     149000                0\n",
              "17      NaN          Gd    CarPort      90000                1\n",
              "18       TA          Gd     Detchd     159000                1\n",
              "19       TA          Gd     Attchd     139000                1"
            ]
          },
          "metadata": {
            "tags": []
          },
          "execution_count": 85
        }
      ]
    },
    {
      "cell_type": "markdown",
      "metadata": {
        "id": "vMEOfPZd97lX"
      },
      "source": [
        "**Suppose if you have more frequent categories, we just replace NAN with a new category**"
      ]
    },
    {
      "cell_type": "code",
      "metadata": {
        "id": "G3gtHFe989x7"
      },
      "source": [
        "df=pd.read_csv(url, usecols=['BsmtQual','FireplaceQu','GarageType','SalePrice'])"
      ],
      "execution_count": 98,
      "outputs": []
    },
    {
      "cell_type": "code",
      "metadata": {
        "colab": {
          "base_uri": "https://localhost:8080/"
        },
        "id": "r-fdSrcV_XbC",
        "outputId": "7173eafd-2c6c-424a-e130-8d16279b7b4b"
      },
      "source": [
        "df.shape"
      ],
      "execution_count": 99,
      "outputs": [
        {
          "output_type": "execute_result",
          "data": {
            "text/plain": [
              "(1460, 4)"
            ]
          },
          "metadata": {
            "tags": []
          },
          "execution_count": 99
        }
      ]
    },
    {
      "cell_type": "code",
      "metadata": {
        "id": "WziS4oTu-Qva"
      },
      "source": [
        "def impute_new(df,variable):\r\n",
        "  df[variable]=np.where(df[variable].isnull(),\"missing\",df[variable])"
      ],
      "execution_count": 100,
      "outputs": []
    },
    {
      "cell_type": "code",
      "metadata": {
        "id": "sZX0skWa-oJm"
      },
      "source": [
        "for feature in ['BsmtQual','FireplaceQu','GarageType']:\r\n",
        "  impute_new(df,feature)"
      ],
      "execution_count": 101,
      "outputs": []
    },
    {
      "cell_type": "code",
      "metadata": {
        "colab": {
          "base_uri": "https://localhost:8080/",
          "height": 204
        },
        "id": "HLOHHl3K-1nF",
        "outputId": "14f0f594-42b3-4dd8-9f91-56391f6b92d3"
      },
      "source": [
        "df.head()"
      ],
      "execution_count": 102,
      "outputs": [
        {
          "output_type": "execute_result",
          "data": {
            "text/html": [
              "<div>\n",
              "<style scoped>\n",
              "    .dataframe tbody tr th:only-of-type {\n",
              "        vertical-align: middle;\n",
              "    }\n",
              "\n",
              "    .dataframe tbody tr th {\n",
              "        vertical-align: top;\n",
              "    }\n",
              "\n",
              "    .dataframe thead th {\n",
              "        text-align: right;\n",
              "    }\n",
              "</style>\n",
              "<table border=\"1\" class=\"dataframe\">\n",
              "  <thead>\n",
              "    <tr style=\"text-align: right;\">\n",
              "      <th></th>\n",
              "      <th>BsmtQual</th>\n",
              "      <th>FireplaceQu</th>\n",
              "      <th>GarageType</th>\n",
              "      <th>SalePrice</th>\n",
              "    </tr>\n",
              "  </thead>\n",
              "  <tbody>\n",
              "    <tr>\n",
              "      <th>0</th>\n",
              "      <td>Gd</td>\n",
              "      <td>missing</td>\n",
              "      <td>Attchd</td>\n",
              "      <td>208500</td>\n",
              "    </tr>\n",
              "    <tr>\n",
              "      <th>1</th>\n",
              "      <td>Gd</td>\n",
              "      <td>TA</td>\n",
              "      <td>Attchd</td>\n",
              "      <td>181500</td>\n",
              "    </tr>\n",
              "    <tr>\n",
              "      <th>2</th>\n",
              "      <td>Gd</td>\n",
              "      <td>TA</td>\n",
              "      <td>Attchd</td>\n",
              "      <td>223500</td>\n",
              "    </tr>\n",
              "    <tr>\n",
              "      <th>3</th>\n",
              "      <td>TA</td>\n",
              "      <td>Gd</td>\n",
              "      <td>Detchd</td>\n",
              "      <td>140000</td>\n",
              "    </tr>\n",
              "    <tr>\n",
              "      <th>4</th>\n",
              "      <td>Gd</td>\n",
              "      <td>TA</td>\n",
              "      <td>Attchd</td>\n",
              "      <td>250000</td>\n",
              "    </tr>\n",
              "  </tbody>\n",
              "</table>\n",
              "</div>"
            ],
            "text/plain": [
              "  BsmtQual FireplaceQu GarageType  SalePrice\n",
              "0       Gd     missing     Attchd     208500\n",
              "1       Gd          TA     Attchd     181500\n",
              "2       Gd          TA     Attchd     223500\n",
              "3       TA          Gd     Detchd     140000\n",
              "4       Gd          TA     Attchd     250000"
            ]
          },
          "metadata": {
            "tags": []
          },
          "execution_count": 102
        }
      ]
    },
    {
      "cell_type": "code",
      "metadata": {
        "colab": {
          "base_uri": "https://localhost:8080/"
        },
        "id": "CyojP5z1_B1B",
        "outputId": "e0852520-8b50-49bf-9749-00e631d9aba8"
      },
      "source": [
        "df.shape"
      ],
      "execution_count": 103,
      "outputs": [
        {
          "output_type": "execute_result",
          "data": {
            "text/plain": [
              "(1460, 4)"
            ]
          },
          "metadata": {
            "tags": []
          },
          "execution_count": 103
        }
      ]
    },
    {
      "cell_type": "markdown",
      "metadata": {
        "id": "hsqCAe7mpHH9"
      },
      "source": [
        "**One Hot Encoding**"
      ]
    },
    {
      "cell_type": "code",
      "metadata": {
        "id": "ST4qovR5odJu"
      },
      "source": [
        "df=pd.read_csv(url,usecols=['Sex'])"
      ],
      "execution_count": 7,
      "outputs": []
    },
    {
      "cell_type": "code",
      "metadata": {
        "colab": {
          "base_uri": "https://localhost:8080/",
          "height": 204
        },
        "id": "yVsok3wspSyS",
        "outputId": "d888d03a-59b4-4d47-c2fd-3572194aed0e"
      },
      "source": [
        "pd.get_dummies(df,drop_first=True).head()"
      ],
      "execution_count": 9,
      "outputs": [
        {
          "output_type": "execute_result",
          "data": {
            "text/html": [
              "<div>\n",
              "<style scoped>\n",
              "    .dataframe tbody tr th:only-of-type {\n",
              "        vertical-align: middle;\n",
              "    }\n",
              "\n",
              "    .dataframe tbody tr th {\n",
              "        vertical-align: top;\n",
              "    }\n",
              "\n",
              "    .dataframe thead th {\n",
              "        text-align: right;\n",
              "    }\n",
              "</style>\n",
              "<table border=\"1\" class=\"dataframe\">\n",
              "  <thead>\n",
              "    <tr style=\"text-align: right;\">\n",
              "      <th></th>\n",
              "      <th>Sex_male</th>\n",
              "    </tr>\n",
              "  </thead>\n",
              "  <tbody>\n",
              "    <tr>\n",
              "      <th>0</th>\n",
              "      <td>1</td>\n",
              "    </tr>\n",
              "    <tr>\n",
              "      <th>1</th>\n",
              "      <td>0</td>\n",
              "    </tr>\n",
              "    <tr>\n",
              "      <th>2</th>\n",
              "      <td>0</td>\n",
              "    </tr>\n",
              "    <tr>\n",
              "      <th>3</th>\n",
              "      <td>0</td>\n",
              "    </tr>\n",
              "    <tr>\n",
              "      <th>4</th>\n",
              "      <td>1</td>\n",
              "    </tr>\n",
              "  </tbody>\n",
              "</table>\n",
              "</div>"
            ],
            "text/plain": [
              "   Sex_male\n",
              "0         1\n",
              "1         0\n",
              "2         0\n",
              "3         0\n",
              "4         1"
            ]
          },
          "metadata": {
            "tags": []
          },
          "execution_count": 9
        }
      ]
    },
    {
      "cell_type": "code",
      "metadata": {
        "id": "ABict__epX2s"
      },
      "source": [
        "df=pd.read_csv(url,usecols=['Embarked'])"
      ],
      "execution_count": 10,
      "outputs": []
    },
    {
      "cell_type": "code",
      "metadata": {
        "colab": {
          "base_uri": "https://localhost:8080/"
        },
        "id": "MXYMb-XWqKmr",
        "outputId": "ae68c877-9112-4727-9f02-60ecd081dea7"
      },
      "source": [
        "df.Embarked.unique()"
      ],
      "execution_count": 11,
      "outputs": [
        {
          "output_type": "execute_result",
          "data": {
            "text/plain": [
              "array(['S', 'C', 'Q', nan], dtype=object)"
            ]
          },
          "metadata": {
            "tags": []
          },
          "execution_count": 11
        }
      ]
    },
    {
      "cell_type": "code",
      "metadata": {
        "id": "k60Odgl_qQ8J"
      },
      "source": [
        ""
      ],
      "execution_count": null,
      "outputs": []
    }
  ]
}